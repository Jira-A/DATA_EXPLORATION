{
 "cells": [
  {
   "cell_type": "code",
   "execution_count": null,
   "metadata": {},
   "outputs": [],
   "source": [
    "!pip install plotly"
   ]
  },
  {
   "cell_type": "code",
   "execution_count": null,
   "metadata": {},
   "outputs": [],
   "source": [
    "!pip install chart_studio"
   ]
  },
  {
   "cell_type": "code",
   "execution_count": null,
   "metadata": {},
   "outputs": [],
   "source": [
    "import chart_studio"
   ]
  },
  {
   "cell_type": "code",
   "execution_count": null,
   "metadata": {},
   "outputs": [],
   "source": [
    "import pandas as pd\n",
    "import numpy as np\n",
    "import matplotlib.pyplot as plt # to plot graph\n",
    "import seaborn as sns # for intractve graphs"
   ]
  },
  {
   "cell_type": "code",
   "execution_count": null,
   "metadata": {},
   "outputs": [],
   "source": [
    "import plotly.figure_factory as ff\n",
    "import plotly.offline as py\n",
    "py.init_notebook_mode(connected=True)\n",
    "import plotly.graph_objs as go\n",
    "import plotly.tools as tls\n",
    "import plotly.offline as ofl"
   ]
  },
  {
   "cell_type": "code",
   "execution_count": null,
   "metadata": {},
   "outputs": [],
   "source": [
    "df=pd.read_csv(\"creditcard.csv\")\n",
    "df.head()"
   ]
  },
  {
   "cell_type": "code",
   "execution_count": null,
   "metadata": {},
   "outputs": [],
   "source": [
    "df.describe()"
   ]
  },
  {
   "cell_type": "code",
   "execution_count": null,
   "metadata": {},
   "outputs": [],
   "source": [
    "df.shape"
   ]
  },
  {
   "cell_type": "code",
   "execution_count": null,
   "metadata": {},
   "outputs": [],
   "source": [
    "Fraud_transacation = df[df[\"Class\"]==1]\n",
    "Normal_transacation= df[df[\"Class\"]==0]\n",
    "plt.figure(figsize=(10,6))\n",
    "plt.subplot(121)\n",
    "Fraud_transacation.Amount.plot.hist(title=\"Fraud Transacation\")\n",
    "plt.subplot(122)\n",
    "Normal_transacation.Amount.plot.hist(title=\"Normal Transaction\")"
   ]
  },
  {
   "cell_type": "code",
   "execution_count": null,
   "metadata": {},
   "outputs": [],
   "source": [
    "# the distribution for Normal transction is not clear and it seams that all transaction are less than 2.5 K\n",
    "# So plot graph for same \n",
    "Fraud_transacation = df[df[\"Class\"]==1]\n",
    "Normal_transacation= df[df[\"Class\"]==0]\n",
    "plt.figure(figsize=(10,6))\n",
    "plt.subplot(121)\n",
    "Fraud_transacation[Fraud_transacation[\"Amount\"]<= 2500].Amount.plot.hist(title=\"Fraud Tranascation\")\n",
    "plt.subplot(122)\n",
    "Normal_transacation[Normal_transacation[\"Amount\"]<=2500].Amount.plot.hist(title=\"Normal Transaction\")"
   ]
  },
  {
   "cell_type": "code",
   "execution_count": null,
   "metadata": {},
   "outputs": [],
   "source": [
    "df.groupby('Class').size()"
   ]
  },
  {
   "cell_type": "code",
   "execution_count": null,
   "metadata": {},
   "outputs": [],
   "source": [
    "# Crete data\n",
    "x = ['Count Fraud']\n",
    "y_Corp_A = [284315]\n",
    "y_Corp_B = [ 492]\n",
    "\n",
    "# Create trace 1 for Corp_A\n",
    "trace1 = go.Bar(\n",
    "    x=x,\n",
    "    y=y_Corp_A,\n",
    "    name='Normal'\n",
    ")\n",
    "\n",
    "# Create trace 2 for Corp_B\n",
    "trace2 = go.Bar(\n",
    "    x=x,\n",
    "    y=y_Corp_B,\n",
    "    name='Fraud'\n",
    ")\n",
    "\n",
    "# Create data object with both traces\n",
    "data = [trace1, trace2]\n",
    "\n",
    "# Create layout object with barmode set to group\n",
    "layout = go.Layout(\n",
    "    barmode='group'\n",
    ")\n",
    "\n",
    "# Create figure object and visualize plot\n",
    "fig = go.Figure(data=data, layout=layout)\n",
    "ofl.iplot(fig, filename='grouped-bar')"
   ]
  },
  {
   "cell_type": "code",
   "execution_count": null,
   "metadata": {},
   "outputs": [],
   "source": [
    "#Overview Data Set\n",
    "df_interest = df.drop(columns=['Amount', 'Class', 'Time'])"
   ]
  },
  {
   "cell_type": "code",
   "execution_count": null,
   "metadata": {},
   "outputs": [],
   "source": [
    "x0 = df_interest.V1\n",
    "x1 = df_interest.V2\n",
    "x2 = df_interest.V3\n",
    "x3 = df_interest.V5\n",
    "x4 = df_interest.V6\n",
    "x5 = df_interest.V7\n",
    "x6 = df_interest.V8\n",
    "x7 = df_interest.V9\n",
    "x8 = df_interest.V10\n",
    "\n",
    "\n",
    "fig = go.Figure()\n",
    "# Use x instead of y argument for horizontal plot\n",
    "fig.add_trace(go.Box(x=x0))\n",
    "fig.add_trace(go.Box(x=x1))\n",
    "fig.add_trace(go.Box(x=x2))\n",
    "fig.add_trace(go.Box(x=x3))\n",
    "fig.add_trace(go.Box(x=x4))\n",
    "fig.add_trace(go.Box(x=x5))\n",
    "fig.add_trace(go.Box(x=x6))\n",
    "fig.add_trace(go.Box(x=x7))\n",
    "fig.add_trace(go.Box(x=x8))\n",
    "\n",
    "fig.show()"
   ]
  },
  {
   "cell_type": "code",
   "execution_count": null,
   "metadata": {},
   "outputs": [],
   "source": [
    "#Features distribution\n",
    "x1 = df.V4[(data1['Class'] != 0)]\n",
    "x2 = df.V4[(data1['Class'] == 0)]\n",
    "x3 = df.V9[(data1['Class'] != 0)]\n",
    "x4 = df.V9[(data1['Class'] == 0)]\n",
    "group_labels = ['Fraude', 'Normal']\n",
    "\n",
    "colors = ['slategray', 'magenta']\n",
    "\n",
    "# Create distplot with curve_type set to 'normal'\n",
    "fig = ff.create_distplot([x1, x2], group_labels, bin_size=.5,\n",
    "                         curve_type='normal', # override default 'kde'\n",
    "                         colors=colors)\n",
    "fig1 = ff.create_distplot([x3, x4], group_labels, bin_size=.5,\n",
    "                         curve_type='normal', # override default 'kde'\n",
    "                         colors=colors)\n",
    "# Add title\n",
    "fig.update_layout(title_text='Features distribution')\n",
    "fig.show()\n",
    "fig1.show()"
   ]
  },
  {
   "cell_type": "code",
   "execution_count": null,
   "metadata": {},
   "outputs": [],
   "source": [
    "# Correlation matrix \n",
    "f, (ax1, ax2) = plt.subplots(1,2,figsize =( 18, 8))\n",
    "corr = df.corr()\n",
    "mask = np.zeros_like(corr, dtype=np.bool)\n",
    "mask[np.triu_indices_from(mask)] = True\n",
    "sns.heatmap((df.loc[df['Class'] ==1]).corr(), vmax = .8, square=True, ax = ax1, cmap = 'afmhot', mask=mask);\n",
    "ax1.set_title('Fraud')\n",
    "sns.heatmap((df.loc[df['Class'] ==0]).corr(), vmax = .8, square=True, ax = ax2, cmap = 'YlGnBu', mask=mask);\n",
    "ax2.set_title('Normal')\n",
    "plt.show()"
   ]
  }
 ],
 "metadata": {
  "kernelspec": {
   "display_name": "Python 3",
   "language": "python",
   "name": "python3"
  },
  "language_info": {
   "codemirror_mode": {
    "name": "ipython",
    "version": 3
   },
   "file_extension": ".py",
   "mimetype": "text/x-python",
   "name": "python",
   "nbconvert_exporter": "python",
   "pygments_lexer": "ipython3",
   "version": "3.7.6"
  }
 },
 "nbformat": 4,
 "nbformat_minor": 4
}
